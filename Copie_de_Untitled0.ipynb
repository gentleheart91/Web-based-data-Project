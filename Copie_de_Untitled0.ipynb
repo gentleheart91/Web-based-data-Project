{
  "nbformat": 4,
  "nbformat_minor": 0,
  "metadata": {
    "colab": {
      "provenance": [],
      "toc_visible": true,
      "authorship_tag": "ABX9TyPBQyX2Wzd32CHx07sQXHlv",
      "include_colab_link": true
    },
    "kernelspec": {
      "name": "python3",
      "display_name": "Python 3"
    },
    "language_info": {
      "name": "python"
    }
  },
  "cells": [
    {
      "cell_type": "markdown",
      "metadata": {
        "id": "view-in-github",
        "colab_type": "text"
      },
      "source": [
        "<a href=\"https://colab.research.google.com/github/gentleheart91/Web-based-data-Project/blob/main/Copie_de_Untitled0.ipynb\" target=\"_parent\"><img src=\"https://colab.research.google.com/assets/colab-badge.svg\" alt=\"Open In Colab\"/></a>"
      ]
    },
    {
      "cell_type": "code",
      "source": [
        "import nltk\n",
        "from nltk.corpus import reuters\n",
        "nltk.download('reuters')\n",
        "nltk.download('punkt_tab')"
      ],
      "metadata": {
        "colab": {
          "base_uri": "https://localhost:8080/"
        },
        "id": "dwpR5ONfSyli",
        "outputId": "459a8e0f-dab6-404d-e0b9-b75482dbf8c6"
      },
      "execution_count": null,
      "outputs": [
        {
          "output_type": "stream",
          "name": "stderr",
          "text": [
            "[nltk_data] Downloading package reuters to /root/nltk_data...\n",
            "[nltk_data]   Package reuters is already up-to-date!\n",
            "[nltk_data] Downloading package punkt_tab to /root/nltk_data...\n",
            "[nltk_data]   Unzipping tokenizers/punkt_tab.zip.\n"
          ]
        },
        {
          "output_type": "execute_result",
          "data": {
            "text/plain": [
              "True"
            ]
          },
          "metadata": {},
          "execution_count": 14
        }
      ]
    },
    {
      "cell_type": "code",
      "source": [
        "corpus = reuters.sents()\n",
        "print(corpus[1])\n"
      ],
      "metadata": {
        "colab": {
          "base_uri": "https://localhost:8080/"
        },
        "id": "O2DlZXcfTEYt",
        "outputId": "a88cccab-9ef5-4447-99b3-b8bd396c4d36"
      },
      "execution_count": null,
      "outputs": [
        {
          "output_type": "stream",
          "name": "stdout",
          "text": [
            "['They', 'told', 'Reuter', 'correspondents', 'in', 'Asian', 'capitals', 'a', 'U', '.', 'S', '.', 'Move', 'against', 'Japan', 'might', 'boost', 'protectionist', 'sentiment', 'in', 'the', 'U', '.', 'S', '.', 'And', 'lead', 'to', 'curbs', 'on', 'American', 'imports', 'of', 'their', 'products', '.']\n"
          ]
        }
      ]
    },
    {
      "cell_type": "code",
      "source": [
        "from nltk.corpus import stopwords\n",
        "nltk.download('stopwords')"
      ],
      "metadata": {
        "colab": {
          "base_uri": "https://localhost:8080/"
        },
        "id": "TF3jrP3BUTFi",
        "outputId": "2decca68-2130-412e-959f-465da1d0e198"
      },
      "execution_count": null,
      "outputs": [
        {
          "output_type": "stream",
          "name": "stderr",
          "text": [
            "[nltk_data] Downloading package stopwords to /root/nltk_data...\n",
            "[nltk_data]   Unzipping corpora/stopwords.zip.\n"
          ]
        },
        {
          "output_type": "execute_result",
          "data": {
            "text/plain": [
              "True"
            ]
          },
          "metadata": {},
          "execution_count": 19
        }
      ]
    },
    {
      "cell_type": "code",
      "source": [
        "stop_words = set(stopwords.words('english'))\n",
        "print(stop_words)"
      ],
      "metadata": {
        "colab": {
          "base_uri": "https://localhost:8080/"
        },
        "id": "APcB1-rvUeic",
        "outputId": "bc0a2e12-3374-42d9-e2e2-453c1ef87bd4"
      },
      "execution_count": null,
      "outputs": [
        {
          "output_type": "stream",
          "name": "stdout",
          "text": [
            "{'being', 'on', \"weren't\", 'should', 'him', 'until', 'shouldn', 'has', 'had', 'this', 'down', 'doing', 'don', \"you'd\", \"shouldn't\", \"doesn't\", 'that', 'of', 'at', 'your', 'am', 'why', 'does', 'each', 'themselves', 'from', 'for', 'you', 'his', 'further', 'own', 'than', 've', 'wouldn', \"hasn't\", 'against', 'by', 'be', 'below', 'once', 'didn', 'just', 'or', 'itself', 'can', 'm', 'because', \"isn't\", \"won't\", 'their', 'ours', 'above', 'her', \"needn't\", 'have', 'while', 'some', 'hadn', 'these', \"mustn't\", 'he', 'both', 're', 'but', 'did', 'it', 'they', 'very', \"should've\", 'so', \"hadn't\", 'them', 'won', \"mightn't\", 'over', 'himself', 'to', 'which', 'o', 'aren', 'ain', 'isn', 'me', 'off', 'before', 'an', 'during', \"you're\", 'y', \"wouldn't\", 'as', 'same', \"couldn't\", 'and', 'doesn', 'through', \"it's\", 'she', 'a', 'up', 'myself', 'most', 'was', 'are', 'between', 'again', 'haven', 'hasn', 'such', 'here', \"that'll\", 'what', 'our', 'mustn', 'all', 'needn', \"she's\", 'how', 'couldn', \"haven't\", 'yours', 'the', 'few', 's', 'll', 'do', 'where', \"wasn't\", 'its', 'into', 'not', 'any', 'will', 'out', 'more', 'wasn', 'only', 'then', 'shan', 'yourself', 'i', 'no', \"aren't\", 'theirs', 't', 'having', 'were', 'other', 'mightn', 'herself', 'when', 'is', 'too', 'been', \"didn't\", 'in', 'there', 'ma', 'with', 'those', 'now', \"shan't\", 'my', 'if', 'after', 'under', 'about', 'hers', 'd', 'we', \"don't\", \"you've\", 'whom', \"you'll\", 'who', 'ourselves', 'weren', 'yourselves', 'nor'}\n"
          ]
        }
      ]
    },
    {
      "cell_type": "code",
      "source": [
        "# Function to normalize a sentence (removes non-alphabetic characters including space and comma)\n",
        "def normalize_sentence(sentence):\n",
        "    return [\n",
        "        word.lower()  # Keep words lowercase\n",
        "        for word in sentence\n",
        "        if word.isalpha() and word.lower() not in stop_words  # Remove non-alphabetic and stop words\n",
        "    ]\n",
        "\n",
        "# Normalize the entire corpus (list of sentences)\n",
        "normalized_corpus = [normalize_sentence(sentence) for sentence in corpus]\n",
        "\n",
        "\n"
      ],
      "metadata": {
        "id": "7AMVyEvEUmTD"
      },
      "execution_count": null,
      "outputs": []
    },
    {
      "cell_type": "code",
      "source": [
        "def normalize_sentence(sentence):\n",
        "    \"\"\"\n",
        "    Normalize a sentence by removing non-alphabetic characters, single-letter words,\n",
        "    and stop words, and converting words to lowercase.\n",
        "    \"\"\"\n",
        "    return [\n",
        "        word.lower()  # Convert words to lowercase\n",
        "        for word in sentence  # Process words directly as the input is a list\n",
        "        if word.isalpha()  # Keep only alphabetic words\n",
        "        and len(word) > 1  # Exclude single-letter words\n",
        "        and word.lower() not in stop_words  # Exclude stop words\n",
        "    ]\n",
        "\n",
        "# Normalize the entire corpus (list of sentences)\n",
        "normalized_corpus = [normalize_sentence(sentence) for sentence in corpus]"
      ],
      "metadata": {
        "id": "kYF4fXrtVlxO"
      },
      "execution_count": null,
      "outputs": []
    },
    {
      "cell_type": "code",
      "source": [
        "# Display the first sentence in the normalized corpus\n",
        "print(normalized_corpus[1])"
      ],
      "metadata": {
        "colab": {
          "base_uri": "https://localhost:8080/"
        },
        "id": "P4HzdtRiUtLW",
        "outputId": "f62e6fe7-6b78-4f16-fb20-aaa5b112b954"
      },
      "execution_count": null,
      "outputs": [
        {
          "output_type": "stream",
          "name": "stdout",
          "text": [
            "['told', 'reuter', 'correspondents', 'asian', 'capitals', 'move', 'japan', 'might', 'boost', 'protectionist', 'sentiment', 'lead', 'curbs', 'american', 'imports', 'products']\n"
          ]
        }
      ]
    },
    {
      "cell_type": "code",
      "source": [
        "from gensim.models import Word2Vec\n",
        "\n"
      ],
      "metadata": {
        "id": "FcJDkUPrXJR3"
      },
      "execution_count": null,
      "outputs": []
    },
    {
      "cell_type": "code",
      "source": [
        "# Train Word2Vec on normalized corpus\n",
        "model = Word2Vec(sentences=normalized_corpus, vector_size=100, window=5, min_count=1, workers=5)\n",
        "\n"
      ],
      "metadata": {
        "id": "w8WP8rEzXL-e"
      },
      "execution_count": null,
      "outputs": []
    },
    {
      "cell_type": "code",
      "source": [
        "# Calculate similarity\n",
        "similarity = model.wv.similarity(\"bank\", \"economy\")\n",
        "print(f\"Similarity between 'bank' and 'economy': {similarity}\")"
      ],
      "metadata": {
        "colab": {
          "base_uri": "https://localhost:8080/"
        },
        "id": "EvmflsQRX7_u",
        "outputId": "54d140d1-d0d6-4102-9cc6-717b7e583c46"
      },
      "execution_count": null,
      "outputs": [
        {
          "output_type": "stream",
          "name": "stdout",
          "text": [
            "Similarity between 'bank' and 'economy': 0.30683669447898865\n"
          ]
        }
      ]
    }
  ]
}